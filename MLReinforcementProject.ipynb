{
 "cells": [
  {
   "cell_type": "code",
   "execution_count": 1,
   "id": "71aac716-e867-4f77-801b-cccd89dee8f0",
   "metadata": {},
   "outputs": [],
   "source": [
    "import pandas as pd\n",
    "import numpy as np\n",
    "import matplotlib.pyplot as plt\n",
    "import warnings\n",
    "warnings.filterwarnings('ignore')\n",
    "import seaborn as sns\n",
    "from sklearn.model_selection import train_test_split,RandomizedSearchCV\n",
    "from sklearn.preprocessing import LabelEncoder\n",
    "from sklearn.metrics import accuracy_score, precision_score, recall_score, f1_score, confusion_matrix, classification_report"
   ]
  },
  {
   "cell_type": "code",
   "execution_count": 2,
   "id": "7c14d8e5-79f7-4b3f-a481-3ad795c8b842",
   "metadata": {},
   "outputs": [],
   "source": [
    "from sklearn.linear_model import LogisticRegression\n",
    "from sklearn.svm import SVC\n",
    "from sklearn.neighbors import KNeighborsClassifier\n",
    "from sklearn.tree import DecisionTreeClassifier\n",
    "from sklearn.ensemble import RandomForestClassifier\n",
    "from xgboost import XGBClassifier"
   ]
  },
  {
   "cell_type": "code",
   "execution_count": 3,
   "id": "f0e42f42-4f8c-4d6c-8313-d6bc3be12bc3",
   "metadata": {},
   "outputs": [],
   "source": [
    "df = pd.read_csv('/Users/swerve/Downloads/ML Reinforcement Project Files/ipl_matches.csv')"
   ]
  },
  {
   "cell_type": "code",
   "execution_count": 4,
   "id": "3f99ed85-bbc9-4e13-86e3-6d8796da0ad9",
   "metadata": {},
   "outputs": [
    {
     "name": "stdout",
     "output_type": "stream",
     "text": [
      "   id    Season       city      date                        team1  \\\n",
      "0   1  IPL-2017  Hyderabad  05/04/17          Sunrisers Hyderabad   \n",
      "1   2  IPL-2017       Pune  06/04/17               Mumbai Indians   \n",
      "2   3  IPL-2017     Rajkot  07/04/17                Gujarat Lions   \n",
      "3   4  IPL-2017     Indore  08/04/17       Rising Pune Supergiant   \n",
      "4   5  IPL-2017  Bangalore  08/04/17  Royal Challengers Bangalore   \n",
      "\n",
      "                         team2                  toss_winner toss_decision  \\\n",
      "0  Royal Challengers Bangalore  Royal Challengers Bangalore         field   \n",
      "1       Rising Pune Supergiant       Rising Pune Supergiant         field   \n",
      "2        Kolkata Knight Riders        Kolkata Knight Riders         field   \n",
      "3              Kings XI Punjab              Kings XI Punjab         field   \n",
      "4             Delhi Daredevils  Royal Challengers Bangalore           bat   \n",
      "\n",
      "   result  dl_applied                       winner  win_by_runs  \\\n",
      "0  normal           0          Sunrisers Hyderabad           35   \n",
      "1  normal           0       Rising Pune Supergiant            0   \n",
      "2  normal           0        Kolkata Knight Riders            0   \n",
      "3  normal           0              Kings XI Punjab            0   \n",
      "4  normal           0  Royal Challengers Bangalore           15   \n",
      "\n",
      "   win_by_wickets player_of_match                                      venue  \\\n",
      "0               0    Yuvraj Singh  Rajiv Gandhi International Stadium, Uppal   \n",
      "1               7       SPD Smith    Maharashtra Cricket Association Stadium   \n",
      "2              10         CA Lynn     Saurashtra Cricket Association Stadium   \n",
      "3               6      GJ Maxwell                     Holkar Cricket Stadium   \n",
      "4               0       KM Jadhav                      M Chinnaswamy Stadium   \n",
      "\n",
      "          umpire1        umpire2 umpire3  \n",
      "0     AY Dandekar       NJ Llong     NaN  \n",
      "1  A Nand Kishore         S Ravi     NaN  \n",
      "2     Nitin Menon      CK Nandan     NaN  \n",
      "3    AK Chaudhary  C Shamshuddin     NaN  \n",
      "4             NaN            NaN     NaN  \n"
     ]
    }
   ],
   "source": [
    "print(df.head())"
   ]
  },
  {
   "cell_type": "code",
   "execution_count": 5,
   "id": "c1e6c35f-342e-4685-a5f8-3fab93018c46",
   "metadata": {},
   "outputs": [
    {
     "name": "stdout",
     "output_type": "stream",
     "text": [
      "(756, 18)\n"
     ]
    }
   ],
   "source": [
    "print(df.shape)"
   ]
  },
  {
   "cell_type": "code",
   "execution_count": 6,
   "id": "8e8a628f-6856-426c-bd5e-596be5d2ac3b",
   "metadata": {},
   "outputs": [
    {
     "name": "stdout",
     "output_type": "stream",
     "text": [
      "        id    Season           city      date                  team1  \\\n",
      "751  11347  IPL-2019         Mumbai  05/05/19  Kolkata Knight Riders   \n",
      "752  11412  IPL-2019        Chennai  07/05/19    Chennai Super Kings   \n",
      "753  11413  IPL-2019  Visakhapatnam  08/05/19    Sunrisers Hyderabad   \n",
      "754  11414  IPL-2019  Visakhapatnam  10/05/19         Delhi Capitals   \n",
      "755  11415  IPL-2019      Hyderabad  12/05/19         Mumbai Indians   \n",
      "\n",
      "                   team2          toss_winner toss_decision  result  \\\n",
      "751       Mumbai Indians       Mumbai Indians         field  normal   \n",
      "752       Mumbai Indians  Chennai Super Kings           bat  normal   \n",
      "753       Delhi Capitals       Delhi Capitals         field  normal   \n",
      "754  Chennai Super Kings  Chennai Super Kings         field  normal   \n",
      "755  Chennai Super Kings       Mumbai Indians           bat  normal   \n",
      "\n",
      "     dl_applied               winner  win_by_runs  win_by_wickets  \\\n",
      "751           0       Mumbai Indians            0               9   \n",
      "752           0       Mumbai Indians            0               6   \n",
      "753           0       Delhi Capitals            0               2   \n",
      "754           0  Chennai Super Kings            0               6   \n",
      "755           0       Mumbai Indians            1               0   \n",
      "\n",
      "    player_of_match                               venue        umpire1  \\\n",
      "751       HH Pandya                    Wankhede Stadium  Nanda Kishore   \n",
      "752        AS Yadav           M. A. Chidambaram Stadium    Nigel Llong   \n",
      "753         RR Pant                    ACA-VDCA Stadium            NaN   \n",
      "754    F du Plessis                    ACA-VDCA Stadium  Sundaram Ravi   \n",
      "755       JJ Bumrah  Rajiv Gandhi Intl. Cricket Stadium    Nitin Menon   \n",
      "\n",
      "            umpire2                  umpire3  \n",
      "751        O Nandan                   S Ravi  \n",
      "752     Nitin Menon                Ian Gould  \n",
      "753             NaN                      NaN  \n",
      "754  Bruce Oxenford  Chettithody Shamshuddin  \n",
      "755       Ian Gould              Nigel Llong  \n"
     ]
    }
   ],
   "source": [
    "print(df.tail())"
   ]
  },
  {
   "cell_type": "code",
   "execution_count": 7,
   "id": "48e35b4c-de9b-4c22-a96b-6d6a1f204d8e",
   "metadata": {},
   "outputs": [
    {
     "data": {
      "text/html": [
       "<div>\n",
       "<style scoped>\n",
       "    .dataframe tbody tr th:only-of-type {\n",
       "        vertical-align: middle;\n",
       "    }\n",
       "\n",
       "    .dataframe tbody tr th {\n",
       "        vertical-align: top;\n",
       "    }\n",
       "\n",
       "    .dataframe thead th {\n",
       "        text-align: right;\n",
       "    }\n",
       "</style>\n",
       "<table border=\"1\" class=\"dataframe\">\n",
       "  <thead>\n",
       "    <tr style=\"text-align: right;\">\n",
       "      <th></th>\n",
       "      <th>id</th>\n",
       "      <th>Season</th>\n",
       "      <th>city</th>\n",
       "      <th>date</th>\n",
       "      <th>team1</th>\n",
       "      <th>team2</th>\n",
       "      <th>toss_winner</th>\n",
       "      <th>toss_decision</th>\n",
       "      <th>result</th>\n",
       "      <th>dl_applied</th>\n",
       "      <th>winner</th>\n",
       "      <th>win_by_runs</th>\n",
       "      <th>win_by_wickets</th>\n",
       "      <th>player_of_match</th>\n",
       "      <th>venue</th>\n",
       "      <th>umpire1</th>\n",
       "      <th>umpire2</th>\n",
       "      <th>umpire3</th>\n",
       "    </tr>\n",
       "  </thead>\n",
       "  <tbody>\n",
       "    <tr>\n",
       "      <th>408</th>\n",
       "      <td>409</td>\n",
       "      <td>IPL-2013</td>\n",
       "      <td>Chandigarh</td>\n",
       "      <td>21/04/13</td>\n",
       "      <td>Pune Warriors</td>\n",
       "      <td>Kings XI Punjab</td>\n",
       "      <td>Kings XI Punjab</td>\n",
       "      <td>field</td>\n",
       "      <td>normal</td>\n",
       "      <td>0</td>\n",
       "      <td>Kings XI Punjab</td>\n",
       "      <td>0</td>\n",
       "      <td>7</td>\n",
       "      <td>DA Miller</td>\n",
       "      <td>Punjab Cricket Association Stadium, Mohali</td>\n",
       "      <td>M Erasmus</td>\n",
       "      <td>K Srinath</td>\n",
       "      <td>NaN</td>\n",
       "    </tr>\n",
       "    <tr>\n",
       "      <th>97</th>\n",
       "      <td>98</td>\n",
       "      <td>IPL-2008</td>\n",
       "      <td>Delhi</td>\n",
       "      <td>15/05/08</td>\n",
       "      <td>Delhi Daredevils</td>\n",
       "      <td>Deccan Chargers</td>\n",
       "      <td>Deccan Chargers</td>\n",
       "      <td>field</td>\n",
       "      <td>normal</td>\n",
       "      <td>0</td>\n",
       "      <td>Delhi Daredevils</td>\n",
       "      <td>12</td>\n",
       "      <td>0</td>\n",
       "      <td>A Mishra</td>\n",
       "      <td>Feroz Shah Kotla</td>\n",
       "      <td>BG Jerling</td>\n",
       "      <td>GA Pratapkumar</td>\n",
       "      <td>NaN</td>\n",
       "    </tr>\n",
       "    <tr>\n",
       "      <th>424</th>\n",
       "      <td>425</td>\n",
       "      <td>IPL-2013</td>\n",
       "      <td>Chennai</td>\n",
       "      <td>02/05/13</td>\n",
       "      <td>Chennai Super Kings</td>\n",
       "      <td>Kings XI Punjab</td>\n",
       "      <td>Chennai Super Kings</td>\n",
       "      <td>bat</td>\n",
       "      <td>normal</td>\n",
       "      <td>0</td>\n",
       "      <td>Chennai Super Kings</td>\n",
       "      <td>15</td>\n",
       "      <td>0</td>\n",
       "      <td>SK Raina</td>\n",
       "      <td>MA Chidambaram Stadium, Chepauk</td>\n",
       "      <td>M Erasmus</td>\n",
       "      <td>VA Kulkarni</td>\n",
       "      <td>NaN</td>\n",
       "    </tr>\n",
       "    <tr>\n",
       "      <th>584</th>\n",
       "      <td>585</td>\n",
       "      <td>IPL-2016</td>\n",
       "      <td>Mumbai</td>\n",
       "      <td>16/04/16</td>\n",
       "      <td>Mumbai Indians</td>\n",
       "      <td>Gujarat Lions</td>\n",
       "      <td>Gujarat Lions</td>\n",
       "      <td>field</td>\n",
       "      <td>normal</td>\n",
       "      <td>0</td>\n",
       "      <td>Gujarat Lions</td>\n",
       "      <td>0</td>\n",
       "      <td>3</td>\n",
       "      <td>AJ Finch</td>\n",
       "      <td>Wankhede Stadium</td>\n",
       "      <td>HDPK Dharmasena</td>\n",
       "      <td>VK Sharma</td>\n",
       "      <td>NaN</td>\n",
       "    </tr>\n",
       "    <tr>\n",
       "      <th>603</th>\n",
       "      <td>604</td>\n",
       "      <td>IPL-2016</td>\n",
       "      <td>Rajkot</td>\n",
       "      <td>01/05/16</td>\n",
       "      <td>Kings XI Punjab</td>\n",
       "      <td>Gujarat Lions</td>\n",
       "      <td>Gujarat Lions</td>\n",
       "      <td>field</td>\n",
       "      <td>normal</td>\n",
       "      <td>0</td>\n",
       "      <td>Kings XI Punjab</td>\n",
       "      <td>23</td>\n",
       "      <td>0</td>\n",
       "      <td>AR Patel</td>\n",
       "      <td>Saurashtra Cricket Association Stadium</td>\n",
       "      <td>BNJ Oxenford</td>\n",
       "      <td>VK Sharma</td>\n",
       "      <td>NaN</td>\n",
       "    </tr>\n",
       "  </tbody>\n",
       "</table>\n",
       "</div>"
      ],
      "text/plain": [
       "      id    Season        city      date                team1  \\\n",
       "408  409  IPL-2013  Chandigarh  21/04/13        Pune Warriors   \n",
       "97    98  IPL-2008       Delhi  15/05/08     Delhi Daredevils   \n",
       "424  425  IPL-2013     Chennai  02/05/13  Chennai Super Kings   \n",
       "584  585  IPL-2016      Mumbai  16/04/16       Mumbai Indians   \n",
       "603  604  IPL-2016      Rajkot  01/05/16      Kings XI Punjab   \n",
       "\n",
       "               team2          toss_winner toss_decision  result  dl_applied  \\\n",
       "408  Kings XI Punjab      Kings XI Punjab         field  normal           0   \n",
       "97   Deccan Chargers      Deccan Chargers         field  normal           0   \n",
       "424  Kings XI Punjab  Chennai Super Kings           bat  normal           0   \n",
       "584    Gujarat Lions        Gujarat Lions         field  normal           0   \n",
       "603    Gujarat Lions        Gujarat Lions         field  normal           0   \n",
       "\n",
       "                  winner  win_by_runs  win_by_wickets player_of_match  \\\n",
       "408      Kings XI Punjab            0               7       DA Miller   \n",
       "97      Delhi Daredevils           12               0        A Mishra   \n",
       "424  Chennai Super Kings           15               0        SK Raina   \n",
       "584        Gujarat Lions            0               3        AJ Finch   \n",
       "603      Kings XI Punjab           23               0        AR Patel   \n",
       "\n",
       "                                          venue          umpire1  \\\n",
       "408  Punjab Cricket Association Stadium, Mohali        M Erasmus   \n",
       "97                             Feroz Shah Kotla       BG Jerling   \n",
       "424             MA Chidambaram Stadium, Chepauk        M Erasmus   \n",
       "584                            Wankhede Stadium  HDPK Dharmasena   \n",
       "603      Saurashtra Cricket Association Stadium     BNJ Oxenford   \n",
       "\n",
       "            umpire2 umpire3  \n",
       "408       K Srinath     NaN  \n",
       "97   GA Pratapkumar     NaN  \n",
       "424     VA Kulkarni     NaN  \n",
       "584       VK Sharma     NaN  \n",
       "603       VK Sharma     NaN  "
      ]
     },
     "execution_count": 7,
     "metadata": {},
     "output_type": "execute_result"
    }
   ],
   "source": [
    "df.sample(5,random_state=42)"
   ]
  },
  {
   "cell_type": "code",
   "execution_count": 8,
   "id": "7a4b135b-6427-418d-afcb-eae58b8ad1b3",
   "metadata": {},
   "outputs": [
    {
     "name": "stdout",
     "output_type": "stream",
     "text": [
      "Missing Values\n",
      "id                 0\n",
      "Season             0\n",
      "city               7\n",
      "date               0\n",
      "team1              0\n",
      "team2              0\n",
      "toss_winner        0\n",
      "toss_decision      0\n",
      "result             0\n",
      "dl_applied         0\n",
      "winner             4\n",
      "win_by_runs        0\n",
      "win_by_wickets     0\n",
      "player_of_match    4\n",
      "venue              0\n",
      "umpire1            2\n",
      "umpire2            2\n",
      "dtype: int64\n"
     ]
    }
   ],
   "source": [
    "df = df.drop(columns='umpire3')\n",
    "print('Missing Values')\n",
    "print(df.isnull().sum())"
   ]
  },
  {
   "cell_type": "code",
   "execution_count": 9,
   "id": "938884b1-675a-4794-929a-be51d7ac616f",
   "metadata": {},
   "outputs": [
    {
     "data": {
      "text/plain": [
       "Index(['id', 'Season', 'city', 'date', 'team1', 'team2', 'toss_winner',\n",
       "       'toss_decision', 'result', 'dl_applied', 'winner', 'win_by_runs',\n",
       "       'win_by_wickets', 'player_of_match', 'venue', 'umpire1', 'umpire2'],\n",
       "      dtype='object')"
      ]
     },
     "execution_count": 9,
     "metadata": {},
     "output_type": "execute_result"
    }
   ],
   "source": [
    "df.columns"
   ]
  },
  {
   "cell_type": "code",
   "execution_count": 10,
   "id": "4e34559d-8c46-471c-a03a-654558f4a87a",
   "metadata": {},
   "outputs": [
    {
     "data": {
      "text/plain": [
       "Index(['id', 'season', 'city', 'date', 'team1', 'team2', 'toss_winner',\n",
       "       'toss_decision', 'result', 'dl_applied', 'winner', 'win_by_runs',\n",
       "       'win_by_wickets', 'player_of_match', 'venue', 'umpire1', 'umpire2'],\n",
       "      dtype='object')"
      ]
     },
     "execution_count": 10,
     "metadata": {},
     "output_type": "execute_result"
    }
   ],
   "source": [
    "df.columns = [c.strip().lower().replace(' ','_') for c in df.columns]\n",
    "df.columns"
   ]
  },
  {
   "cell_type": "code",
   "execution_count": 11,
   "id": "df00c792-a19b-4851-8b69-f83059e6367d",
   "metadata": {},
   "outputs": [
    {
     "data": {
      "text/plain": [
       "['season',\n",
       " 'city',\n",
       " 'team1',\n",
       " 'team2',\n",
       " 'toss_winner',\n",
       " 'toss_decision',\n",
       " 'result',\n",
       " 'winner',\n",
       " 'player_of_match',\n",
       " 'venue',\n",
       " 'umpire1',\n",
       " 'umpire2',\n",
       " 'umpire3']"
      ]
     },
     "execution_count": 11,
     "metadata": {},
     "output_type": "execute_result"
    }
   ],
   "source": [
    "cat_cols = ['season','city','team1','team2','toss_winner','toss_decision','result','winner','player_of_match','venue','umpire1','umpire2','umpire3']\n",
    "cat_cols"
   ]
  },
  {
   "cell_type": "code",
   "execution_count": 12,
   "id": "59b60ece-8062-402c-a0dc-c5eac15a3970",
   "metadata": {},
   "outputs": [
    {
     "name": "stdout",
     "output_type": "stream",
     "text": [
      "season : 12 unique\n",
      "city : 32 unique\n",
      "team1 : 15 unique\n",
      "team2 : 15 unique\n",
      "toss_winner : 15 unique\n",
      "toss_decision : 2 unique\n",
      "result : 3 unique\n",
      "winner : 15 unique\n",
      "player_of_match : 226 unique\n",
      "venue : 41 unique\n",
      "umpire1 : 61 unique\n",
      "umpire2 : 65 unique\n"
     ]
    }
   ],
   "source": [
    "for c in cat_cols:\n",
    "    if c in df.columns:\n",
    "        print(f'{c} : {df[c].nunique()} unique')"
   ]
  },
  {
   "cell_type": "code",
   "execution_count": 13,
   "id": "22d5f9a8-2dc2-4cc6-a925-24baedbcbf70",
   "metadata": {},
   "outputs": [
    {
     "data": {
      "text/plain": [
       "756"
      ]
     },
     "execution_count": 13,
     "metadata": {},
     "output_type": "execute_result"
    }
   ],
   "source": [
    "for c in df.select_dtypes(include='object').columns:\n",
    "    df[c] = df[c].astype(str).str.strip()\n",
    "\n",
    "df.dtypes\n",
    "before = len(df)\n",
    "before"
   ]
  },
  {
   "cell_type": "code",
   "execution_count": 14,
   "id": "ba3cd9b9-87f4-40ed-bede-788d54c4fdaf",
   "metadata": {},
   "outputs": [
    {
     "data": {
      "text/plain": [
       "756"
      ]
     },
     "execution_count": 14,
     "metadata": {},
     "output_type": "execute_result"
    }
   ],
   "source": [
    "df = df.dropna(subset=['winner'])\n",
    "after = len(df)\n",
    "after"
   ]
  },
  {
   "cell_type": "code",
   "execution_count": 15,
   "id": "b8fe172d-cb23-415b-b1a8-d3b1d6af9114",
   "metadata": {},
   "outputs": [
    {
     "name": "stdout",
     "output_type": "stream",
     "text": [
      " Dropped 0 rows due to missing winner, Shape : (756, 17)\n"
     ]
    }
   ],
   "source": [
    "print(f\" Dropped {after - before} rows due to missing winner, Shape : {df.shape}\")"
   ]
  },
  {
   "cell_type": "code",
   "execution_count": 16,
   "id": "db660f34-e34c-4e39-b1f6-5d045bce8844",
   "metadata": {},
   "outputs": [
    {
     "data": {
      "image/png": "[encoded data removed]",
      "text/plain": [
       "<Figure size 1000x700 with 1 Axes>"
      ]
     },
     "metadata": {},
     "output_type": "display_data"
    }
   ],
   "source": [
    "def bar_plot(series, title,xlabel,ylabel,rotation=90):\n",
    "    counts = series.value_counts().sort_values(ascending=False)\n",
    "    plt.figure(figsize=(10,7))\n",
    "    counts.plot(kind='bar')\n",
    "    plt.title(title)\n",
    "    plt.xticks(rotation=rotation)\n",
    "    plt.xlabel(xlabel)\n",
    "    plt.ylabel(ylabel)\n",
    "    plt.tight_layout()\n",
    "    plt.show()\n",
    "\n",
    "bar_plot(df['winner'],\"Team Vs Win Counts\",\"Teams\",\"Wins\")"
   ]
  },
  {
   "cell_type": "code",
   "execution_count": 17,
   "id": "b1367d39-e339-45da-83dd-4d0744110d1e",
   "metadata": {},
   "outputs": [
    {
     "data": {
      "image/png": "[encoded data removed]",
      "text/plain": [
       "<Figure size 1000x700 with 1 Axes>"
      ]
     },
     "metadata": {},
     "output_type": "display_data"
    }
   ],
   "source": [
    "bar_plot(df['toss_decision'],\"Toss Decision Distribution\",\"Toss Decision\",\"Count\",0)"
   ]
  },
  {
   "cell_type": "code",
   "execution_count": 18,
   "id": "61723cbc-388e-432b-bed1-a2d5776ce79c",
   "metadata": {},
   "outputs": [
    {
     "data": {
      "image/png": "[encoded data removed]",
      "text/plain": [
       "<Figure size 1000x700 with 1 Axes>"
      ]
     },
     "metadata": {},
     "output_type": "display_data"
    }
   ],
   "source": [
    "bar_plot(df['season'],\"Matches per Season\",\"Season\",\"Matches\",90)"
   ]
  },
  {
   "cell_type": "code",
   "execution_count": 19,
   "id": "2de0a6c5-9caa-4bb3-b997-ef400c6a9ab9",
   "metadata": {},
   "outputs": [
    {
     "data": {
      "image/png": "[encoded data removed]",
      "text/plain": [
       "<Figure size 1000x600 with 1 Axes>"
      ]
     },
     "metadata": {},
     "output_type": "display_data"
    }
   ],
   "source": [
    "plt.figure(figsize=(10,6))\n",
    "df['venue'].value_counts().head(15).plot(kind='bar')\n",
    "plt.title(\"Top 15 Venues by Match Count\")\n",
    "plt.xlabel(\"City\")\n",
    "plt.ylabel(\"Matches\")\n",
    "plt.xticks(rotation=90)\n",
    "plt.tight_layout()\n",
    "plt.show()"
   ]
  },
  {
   "cell_type": "code",
   "execution_count": 20,
   "id": "1990d2cc-0d37-4f5c-86f2-d0df622f11c3",
   "metadata": {},
   "outputs": [
    {
     "data": {
      "image/png": "[encoded data removed]",
      "text/plain": [
       "<Figure size 640x480 with 1 Axes>"
      ]
     },
     "metadata": {},
     "output_type": "display_data"
    }
   ],
   "source": [
    "df['toss_win_match_win'] = (df['toss_winner'] == df['winner']).astype(int)\n",
    "plt.figure()\n",
    "df['toss_win_match_win'].value_counts().rename({0: \"Toss Winner Lost\", 1: \"Toss Winner Won\"}).plot(kind='bar')\n",
    "plt.title(\"Did Toss Winner Also Win the Match?\")\n",
    "plt.xlabel(\"Outcome\")\n",
    "plt.ylabel(\"Count\")\n",
    "plt.xticks(rotation=0)\n",
    "plt.tight_layout()\n",
    "plt.show()\n"
   ]
  },
  {
   "cell_type": "code",
   "execution_count": 21,
   "id": "ebd4fd47-ff99-4d78-9971-5d78e7ee97af",
   "metadata": {},
   "outputs": [
    {
     "data": {
      "image/png": "[encoded data removed]",
      "text/plain": [
       "<Figure size 1000x600 with 1 Axes>"
      ]
     },
     "metadata": {},
     "output_type": "display_data"
    }
   ],
   "source": [
    "plt.figure(figsize=(10,6))\n",
    "df['win_by_runs'].fillna(0).plot(kind='hist',bins=30)\n",
    "plt.title('Distribution of Win by Runs')\n",
    "plt.xlabel('Runs')\n",
    "plt.ylabel('Frequency')\n",
    "plt.tight_layout()\n",
    "plt.show()"
   ]
  },
  {
   "cell_type": "code",
   "execution_count": 22,
   "id": "7f27dddf-e72b-4125-8284-4ea1e6896d12",
   "metadata": {},
   "outputs": [
    {
     "data": {
      "image/png": "[encoded data removed]",
      "text/plain": [
       "<Figure size 1400x1000 with 1 Axes>"
      ]
     },
     "metadata": {},
     "output_type": "display_data"
    }
   ],
   "source": [
    "plt.figure(figsize=(14,10))\n",
    "df['win_by_wickets'].fillna(0).plot(kind='hist',bins=30)\n",
    "plt.title('Distribution of Win by Wickets')\n",
    "plt.xlabel('Wickets')\n",
    "plt.ylabel('Frequency')\n",
    "plt.show()"
   ]
  },
  {
   "cell_type": "code",
   "execution_count": 23,
   "id": "40c9bcf4-b2c8-4e10-a967-5f80bb36a17d",
   "metadata": {},
   "outputs": [
    {
     "data": {
      "text/plain": [
       "winner\n",
       "Mumbai Indians                 109\n",
       "Chennai Super Kings            100\n",
       "Kolkata Knight Riders           92\n",
       "Royal Challengers Bangalore     84\n",
       "Kings XI Punjab                 82\n",
       "Rajasthan Royals                75\n",
       "Delhi Daredevils                67\n",
       "Sunrisers Hyderabad             58\n",
       "Deccan Chargers                 29\n",
       "Gujarat Lions                   13\n",
       "Pune Warriors                   12\n",
       "Rising Pune Supergiant          10\n",
       "Delhi Capitals                  10\n",
       "Kochi Tuskers Kerala             6\n",
       "Rising Pune Supergiants          5\n",
       "nan                              4\n",
       "Name: count, dtype: int64"
      ]
     },
     "execution_count": 23,
     "metadata": {},
     "output_type": "execute_result"
    }
   ],
   "source": [
    "df.winner.value_counts()"
   ]
  },
  {
   "cell_type": "code",
   "execution_count": 24,
   "id": "3c353b6c-6c35-47f8-bbc9-b75d6a467b8c",
   "metadata": {},
   "outputs": [],
   "source": [
    "team_name_corrections = {\n",
    "    \"Rising Pune Supergiant\": \"Rising Pune Supergiants\",\n",
    "    \"Pune Warriors\": \"Rising Pune Supergiants\",\n",
    "    \"Delhi Daredevils\": \"Delhi Capitals\"\n",
    "}\n",
    "\n",
    "df['winner'] = df['winner'].replace(team_name_corrections)\n",
    "df['team1'] = df['team1'].replace(team_name_corrections)\n",
    "df['team2'] = df['team2'].replace(team_name_corrections)\n",
    "df['toss_winner'] = df['toss_winner'].replace(team_name_corrections)\n"
   ]
  },
  {
   "cell_type": "code",
   "execution_count": 25,
   "id": "fe2ed7c3-c8f2-4bc1-9dac-b6b69a56d210",
   "metadata": {},
   "outputs": [],
   "source": [
    "\n",
    "\n",
    "from sklearn.preprocessing import LabelEncoder\n",
    "df = df.dropna(subset=[\"winner\"])\n",
    "le = LabelEncoder()\n",
    "y = le.fit_transform(df[\"winner\"]) \n",
    "X = df.drop(columns='winner')"
   ]
  },
  {
   "cell_type": "code",
   "execution_count": 26,
   "id": "9b152c16-bf8b-495e-9d7b-b8b0a1e50a4b",
   "metadata": {},
   "outputs": [
    {
     "data": {
      "text/html": [
       "<div>\n",
       "<style scoped>\n",
       "    .dataframe tbody tr th:only-of-type {\n",
       "        vertical-align: middle;\n",
       "    }\n",
       "\n",
       "    .dataframe tbody tr th {\n",
       "        vertical-align: top;\n",
       "    }\n",
       "\n",
       "    .dataframe thead th {\n",
       "        text-align: right;\n",
       "    }\n",
       "</style>\n",
       "<table border=\"1\" class=\"dataframe\">\n",
       "  <thead>\n",
       "    <tr style=\"text-align: right;\">\n",
       "      <th></th>\n",
       "      <th>id</th>\n",
       "      <th>season</th>\n",
       "      <th>city</th>\n",
       "      <th>date</th>\n",
       "      <th>team1</th>\n",
       "      <th>team2</th>\n",
       "      <th>toss_winner</th>\n",
       "      <th>toss_decision</th>\n",
       "      <th>result</th>\n",
       "      <th>dl_applied</th>\n",
       "      <th>win_by_runs</th>\n",
       "      <th>win_by_wickets</th>\n",
       "      <th>player_of_match</th>\n",
       "      <th>venue</th>\n",
       "      <th>umpire1</th>\n",
       "      <th>umpire2</th>\n",
       "      <th>toss_win_match_win</th>\n",
       "    </tr>\n",
       "  </thead>\n",
       "  <tbody>\n",
       "    <tr>\n",
       "      <th>0</th>\n",
       "      <td>1</td>\n",
       "      <td>IPL-2017</td>\n",
       "      <td>Hyderabad</td>\n",
       "      <td>05/04/17</td>\n",
       "      <td>Sunrisers Hyderabad</td>\n",
       "      <td>Royal Challengers Bangalore</td>\n",
       "      <td>Royal Challengers Bangalore</td>\n",
       "      <td>field</td>\n",
       "      <td>normal</td>\n",
       "      <td>0</td>\n",
       "      <td>35</td>\n",
       "      <td>0</td>\n",
       "      <td>Yuvraj Singh</td>\n",
       "      <td>Rajiv Gandhi International Stadium, Uppal</td>\n",
       "      <td>AY Dandekar</td>\n",
       "      <td>NJ Llong</td>\n",
       "      <td>0</td>\n",
       "    </tr>\n",
       "    <tr>\n",
       "      <th>1</th>\n",
       "      <td>2</td>\n",
       "      <td>IPL-2017</td>\n",
       "      <td>Pune</td>\n",
       "      <td>06/04/17</td>\n",
       "      <td>Mumbai Indians</td>\n",
       "      <td>Rising Pune Supergiants</td>\n",
       "      <td>Rising Pune Supergiants</td>\n",
       "      <td>field</td>\n",
       "      <td>normal</td>\n",
       "      <td>0</td>\n",
       "      <td>0</td>\n",
       "      <td>7</td>\n",
       "      <td>SPD Smith</td>\n",
       "      <td>Maharashtra Cricket Association Stadium</td>\n",
       "      <td>A Nand Kishore</td>\n",
       "      <td>S Ravi</td>\n",
       "      <td>1</td>\n",
       "    </tr>\n",
       "    <tr>\n",
       "      <th>2</th>\n",
       "      <td>3</td>\n",
       "      <td>IPL-2017</td>\n",
       "      <td>Rajkot</td>\n",
       "      <td>07/04/17</td>\n",
       "      <td>Gujarat Lions</td>\n",
       "      <td>Kolkata Knight Riders</td>\n",
       "      <td>Kolkata Knight Riders</td>\n",
       "      <td>field</td>\n",
       "      <td>normal</td>\n",
       "      <td>0</td>\n",
       "      <td>0</td>\n",
       "      <td>10</td>\n",
       "      <td>CA Lynn</td>\n",
       "      <td>Saurashtra Cricket Association Stadium</td>\n",
       "      <td>Nitin Menon</td>\n",
       "      <td>CK Nandan</td>\n",
       "      <td>1</td>\n",
       "    </tr>\n",
       "    <tr>\n",
       "      <th>3</th>\n",
       "      <td>4</td>\n",
       "      <td>IPL-2017</td>\n",
       "      <td>Indore</td>\n",
       "      <td>08/04/17</td>\n",
       "      <td>Rising Pune Supergiants</td>\n",
       "      <td>Kings XI Punjab</td>\n",
       "      <td>Kings XI Punjab</td>\n",
       "      <td>field</td>\n",
       "      <td>normal</td>\n",
       "      <td>0</td>\n",
       "      <td>0</td>\n",
       "      <td>6</td>\n",
       "      <td>GJ Maxwell</td>\n",
       "      <td>Holkar Cricket Stadium</td>\n",
       "      <td>AK Chaudhary</td>\n",
       "      <td>C Shamshuddin</td>\n",
       "      <td>1</td>\n",
       "    </tr>\n",
       "    <tr>\n",
       "      <th>4</th>\n",
       "      <td>5</td>\n",
       "      <td>IPL-2017</td>\n",
       "      <td>Bangalore</td>\n",
       "      <td>08/04/17</td>\n",
       "      <td>Royal Challengers Bangalore</td>\n",
       "      <td>Delhi Capitals</td>\n",
       "      <td>Royal Challengers Bangalore</td>\n",
       "      <td>bat</td>\n",
       "      <td>normal</td>\n",
       "      <td>0</td>\n",
       "      <td>15</td>\n",
       "      <td>0</td>\n",
       "      <td>KM Jadhav</td>\n",
       "      <td>M Chinnaswamy Stadium</td>\n",
       "      <td>nan</td>\n",
       "      <td>nan</td>\n",
       "      <td>1</td>\n",
       "    </tr>\n",
       "    <tr>\n",
       "      <th>...</th>\n",
       "      <td>...</td>\n",
       "      <td>...</td>\n",
       "      <td>...</td>\n",
       "      <td>...</td>\n",
       "      <td>...</td>\n",
       "      <td>...</td>\n",
       "      <td>...</td>\n",
       "      <td>...</td>\n",
       "      <td>...</td>\n",
       "      <td>...</td>\n",
       "      <td>...</td>\n",
       "      <td>...</td>\n",
       "      <td>...</td>\n",
       "      <td>...</td>\n",
       "      <td>...</td>\n",
       "      <td>...</td>\n",
       "      <td>...</td>\n",
       "    </tr>\n",
       "    <tr>\n",
       "      <th>751</th>\n",
       "      <td>11347</td>\n",
       "      <td>IPL-2019</td>\n",
       "      <td>Mumbai</td>\n",
       "      <td>05/05/19</td>\n",
       "      <td>Kolkata Knight Riders</td>\n",
       "      <td>Mumbai Indians</td>\n",
       "      <td>Mumbai Indians</td>\n",
       "      <td>field</td>\n",
       "      <td>normal</td>\n",
       "      <td>0</td>\n",
       "      <td>0</td>\n",
       "      <td>9</td>\n",
       "      <td>HH Pandya</td>\n",
       "      <td>Wankhede Stadium</td>\n",
       "      <td>Nanda Kishore</td>\n",
       "      <td>O Nandan</td>\n",
       "      <td>1</td>\n",
       "    </tr>\n",
       "    <tr>\n",
       "      <th>752</th>\n",
       "      <td>11412</td>\n",
       "      <td>IPL-2019</td>\n",
       "      <td>Chennai</td>\n",
       "      <td>07/05/19</td>\n",
       "      <td>Chennai Super Kings</td>\n",
       "      <td>Mumbai Indians</td>\n",
       "      <td>Chennai Super Kings</td>\n",
       "      <td>bat</td>\n",
       "      <td>normal</td>\n",
       "      <td>0</td>\n",
       "      <td>0</td>\n",
       "      <td>6</td>\n",
       "      <td>AS Yadav</td>\n",
       "      <td>M. A. Chidambaram Stadium</td>\n",
       "      <td>Nigel Llong</td>\n",
       "      <td>Nitin Menon</td>\n",
       "      <td>0</td>\n",
       "    </tr>\n",
       "    <tr>\n",
       "      <th>753</th>\n",
       "      <td>11413</td>\n",
       "      <td>IPL-2019</td>\n",
       "      <td>Visakhapatnam</td>\n",
       "      <td>08/05/19</td>\n",
       "      <td>Sunrisers Hyderabad</td>\n",
       "      <td>Delhi Capitals</td>\n",
       "      <td>Delhi Capitals</td>\n",
       "      <td>field</td>\n",
       "      <td>normal</td>\n",
       "      <td>0</td>\n",
       "      <td>0</td>\n",
       "      <td>2</td>\n",
       "      <td>RR Pant</td>\n",
       "      <td>ACA-VDCA Stadium</td>\n",
       "      <td>nan</td>\n",
       "      <td>nan</td>\n",
       "      <td>1</td>\n",
       "    </tr>\n",
       "    <tr>\n",
       "      <th>754</th>\n",
       "      <td>11414</td>\n",
       "      <td>IPL-2019</td>\n",
       "      <td>Visakhapatnam</td>\n",
       "      <td>10/05/19</td>\n",
       "      <td>Delhi Capitals</td>\n",
       "      <td>Chennai Super Kings</td>\n",
       "      <td>Chennai Super Kings</td>\n",
       "      <td>field</td>\n",
       "      <td>normal</td>\n",
       "      <td>0</td>\n",
       "      <td>0</td>\n",
       "      <td>6</td>\n",
       "      <td>F du Plessis</td>\n",
       "      <td>ACA-VDCA Stadium</td>\n",
       "      <td>Sundaram Ravi</td>\n",
       "      <td>Bruce Oxenford</td>\n",
       "      <td>1</td>\n",
       "    </tr>\n",
       "    <tr>\n",
       "      <th>755</th>\n",
       "      <td>11415</td>\n",
       "      <td>IPL-2019</td>\n",
       "      <td>Hyderabad</td>\n",
       "      <td>12/05/19</td>\n",
       "      <td>Mumbai Indians</td>\n",
       "      <td>Chennai Super Kings</td>\n",
       "      <td>Mumbai Indians</td>\n",
       "      <td>bat</td>\n",
       "      <td>normal</td>\n",
       "      <td>0</td>\n",
       "      <td>1</td>\n",
       "      <td>0</td>\n",
       "      <td>JJ Bumrah</td>\n",
       "      <td>Rajiv Gandhi Intl. Cricket Stadium</td>\n",
       "      <td>Nitin Menon</td>\n",
       "      <td>Ian Gould</td>\n",
       "      <td>1</td>\n",
       "    </tr>\n",
       "  </tbody>\n",
       "</table>\n",
       "<p>756 rows × 17 columns</p>\n",
       "</div>"
      ],
      "text/plain": [
       "        id    season           city      date                        team1  \\\n",
       "0        1  IPL-2017      Hyderabad  05/04/17          Sunrisers Hyderabad   \n",
       "1        2  IPL-2017           Pune  06/04/17               Mumbai Indians   \n",
       "2        3  IPL-2017         Rajkot  07/04/17                Gujarat Lions   \n",
       "3        4  IPL-2017         Indore  08/04/17      Rising Pune Supergiants   \n",
       "4        5  IPL-2017      Bangalore  08/04/17  Royal Challengers Bangalore   \n",
       "..     ...       ...            ...       ...                          ...   \n",
       "751  11347  IPL-2019         Mumbai  05/05/19        Kolkata Knight Riders   \n",
       "752  11412  IPL-2019        Chennai  07/05/19          Chennai Super Kings   \n",
       "753  11413  IPL-2019  Visakhapatnam  08/05/19          Sunrisers Hyderabad   \n",
       "754  11414  IPL-2019  Visakhapatnam  10/05/19               Delhi Capitals   \n",
       "755  11415  IPL-2019      Hyderabad  12/05/19               Mumbai Indians   \n",
       "\n",
       "                           team2                  toss_winner toss_decision  \\\n",
       "0    Royal Challengers Bangalore  Royal Challengers Bangalore         field   \n",
       "1        Rising Pune Supergiants      Rising Pune Supergiants         field   \n",
       "2          Kolkata Knight Riders        Kolkata Knight Riders         field   \n",
       "3                Kings XI Punjab              Kings XI Punjab         field   \n",
       "4                 Delhi Capitals  Royal Challengers Bangalore           bat   \n",
       "..                           ...                          ...           ...   \n",
       "751               Mumbai Indians               Mumbai Indians         field   \n",
       "752               Mumbai Indians          Chennai Super Kings           bat   \n",
       "753               Delhi Capitals               Delhi Capitals         field   \n",
       "754          Chennai Super Kings          Chennai Super Kings         field   \n",
       "755          Chennai Super Kings               Mumbai Indians           bat   \n",
       "\n",
       "     result  dl_applied  win_by_runs  win_by_wickets player_of_match  \\\n",
       "0    normal           0           35               0    Yuvraj Singh   \n",
       "1    normal           0            0               7       SPD Smith   \n",
       "2    normal           0            0              10         CA Lynn   \n",
       "3    normal           0            0               6      GJ Maxwell   \n",
       "4    normal           0           15               0       KM Jadhav   \n",
       "..      ...         ...          ...             ...             ...   \n",
       "751  normal           0            0               9       HH Pandya   \n",
       "752  normal           0            0               6        AS Yadav   \n",
       "753  normal           0            0               2         RR Pant   \n",
       "754  normal           0            0               6    F du Plessis   \n",
       "755  normal           0            1               0       JJ Bumrah   \n",
       "\n",
       "                                         venue         umpire1  \\\n",
       "0    Rajiv Gandhi International Stadium, Uppal     AY Dandekar   \n",
       "1      Maharashtra Cricket Association Stadium  A Nand Kishore   \n",
       "2       Saurashtra Cricket Association Stadium     Nitin Menon   \n",
       "3                       Holkar Cricket Stadium    AK Chaudhary   \n",
       "4                        M Chinnaswamy Stadium             nan   \n",
       "..                                         ...             ...   \n",
       "751                           Wankhede Stadium   Nanda Kishore   \n",
       "752                  M. A. Chidambaram Stadium     Nigel Llong   \n",
       "753                           ACA-VDCA Stadium             nan   \n",
       "754                           ACA-VDCA Stadium   Sundaram Ravi   \n",
       "755         Rajiv Gandhi Intl. Cricket Stadium     Nitin Menon   \n",
       "\n",
       "            umpire2  toss_win_match_win  \n",
       "0          NJ Llong                   0  \n",
       "1            S Ravi                   1  \n",
       "2         CK Nandan                   1  \n",
       "3     C Shamshuddin                   1  \n",
       "4               nan                   1  \n",
       "..              ...                 ...  \n",
       "751        O Nandan                   1  \n",
       "752     Nitin Menon                   0  \n",
       "753             nan                   1  \n",
       "754  Bruce Oxenford                   1  \n",
       "755       Ian Gould                   1  \n",
       "\n",
       "[756 rows x 17 columns]"
      ]
     },
     "execution_count": 26,
     "metadata": {},
     "output_type": "execute_result"
    }
   ],
   "source": [
    "X"
   ]
  },
  {
   "cell_type": "code",
   "execution_count": 27,
   "id": "f7f670dc-8446-4363-a0d5-6a219fba45da",
   "metadata": {},
   "outputs": [
    {
     "data": {
      "text/plain": [
       "['id', 'dl_applied', 'win_by_runs', 'win_by_wickets', 'toss_win_match_win']"
      ]
     },
     "execution_count": 27,
     "metadata": {},
     "output_type": "execute_result"
    }
   ],
   "source": [
    "numerical_cols = X.select_dtypes(include=[np.number]).columns.to_list()\n",
    "numerical_cols"
   ]
  },
  {
   "cell_type": "code",
   "execution_count": 28,
   "id": "0e4d8e94-6742-4948-9e8b-e5e36cdf3450",
   "metadata": {},
   "outputs": [
    {
     "data": {
      "text/plain": [
       "['season',\n",
       " 'city',\n",
       " 'date',\n",
       " 'team1',\n",
       " 'team2',\n",
       " 'toss_winner',\n",
       " 'toss_decision',\n",
       " 'result',\n",
       " 'player_of_match',\n",
       " 'venue',\n",
       " 'umpire1',\n",
       " 'umpire2']"
      ]
     },
     "execution_count": 28,
     "metadata": {},
     "output_type": "execute_result"
    }
   ],
   "source": [
    "categorical_cols = X.select_dtypes(exclude=[np.number]).columns.to_list()\n",
    "categorical_cols"
   ]
  },
  {
   "cell_type": "code",
   "execution_count": 29,
   "id": "2b07ac38-26a4-4298-a5e1-baf46b63c85f",
   "metadata": {},
   "outputs": [],
   "source": [
    "from sklearn.preprocessing import OneHotEncoder"
   ]
  },
  {
   "cell_type": "code",
   "execution_count": 30,
   "id": "6dd41440-b451-4b96-ade6-216823921a15",
   "metadata": {},
   "outputs": [],
   "source": [
    "ohe = OneHotEncoder(drop=\"first\",handle_unknown=\"ignore\",sparse_output=False)"
   ]
  },
  {
   "cell_type": "code",
   "execution_count": 31,
   "id": "b04ccf75-0465-4a65-9488-6662f0e8635a",
   "metadata": {},
   "outputs": [],
   "source": [
    "X_cat = ohe.fit_transform(X[categorical_cols])\n",
    "X_num = X[numerical_cols].to_numpy()\n",
    "\n",
    "X_encoded = np.concatenate([X_cat,X_num],axis=1)"
   ]
  },
  {
   "cell_type": "code",
   "execution_count": 32,
   "id": "0bb6d4c5-748e-4755-8ae4-899ae21ffd4b",
   "metadata": {},
   "outputs": [],
   "source": [
    "X_train, X_test, y_train, y_test = train_test_split(X_encoded, y, test_size=0.2, random_state=42, stratify=y)"
   ]
  },
  {
   "cell_type": "code",
   "execution_count": 33,
   "id": "f08d21ef-4ba1-410f-a8db-91f7288dcd07",
   "metadata": {},
   "outputs": [
    {
     "name": "stdout",
     "output_type": "stream",
     "text": [
      "Train shape: (604, 1021)  Test shape: (152, 1021)\n"
     ]
    }
   ],
   "source": [
    "print(\"Train shape:\", X_train.shape, \" Test shape:\", X_test.shape)\n"
   ]
  },
  {
   "cell_type": "code",
   "execution_count": 34,
   "id": "137b5b8a-ba51-4bc9-9eea-fd9c31f0d006",
   "metadata": {},
   "outputs": [
    {
     "name": "stdout",
     "output_type": "stream",
     "text": [
      "Logistic Regression\n",
      "Accuracy : 0.2303\n",
      "Precision: 0.1182\n",
      "Recall   : 0.1460\n",
      "F1-score : 0.1125\n",
      "\n",
      "Classification Report:\n",
      "              precision    recall  f1-score   support\n",
      "\n",
      "           0       0.13      0.40      0.19        20\n",
      "           1       0.00      0.00      0.00         6\n",
      "           2       0.43      0.20      0.27        15\n",
      "           3       0.00      0.00      0.00         3\n",
      "           4       0.00      0.00      0.00        16\n",
      "           5       0.00      0.00      0.00         1\n",
      "           6       0.26      0.74      0.38        19\n",
      "           7       0.22      0.09      0.13        22\n",
      "           8       0.00      0.00      0.00        15\n",
      "           9       0.00      0.00      0.00         5\n",
      "          10       0.50      0.47      0.48        17\n",
      "          11       0.00      0.00      0.00        12\n",
      "          12       0.00      0.00      0.00         1\n",
      "\n",
      "    accuracy                           0.23       152\n",
      "   macro avg       0.12      0.15      0.11       152\n",
      "weighted avg       0.18      0.23      0.17       152\n",
      "\n",
      "SVM\n",
      "Accuracy : 0.1579\n",
      "Precision: 0.0331\n",
      "Recall   : 0.0853\n",
      "F1-score : 0.0373\n",
      "\n",
      "Classification Report:\n",
      "              precision    recall  f1-score   support\n",
      "\n",
      "           0       0.29      0.20      0.24        20\n",
      "           1       0.00      0.00      0.00         6\n",
      "           2       0.00      0.00      0.00        15\n",
      "           3       0.00      0.00      0.00         3\n",
      "           4       0.00      0.00      0.00        16\n",
      "           5       0.00      0.00      0.00         1\n",
      "           6       0.00      0.00      0.00        19\n",
      "           7       0.14      0.91      0.25        22\n",
      "           8       0.00      0.00      0.00        15\n",
      "           9       0.00      0.00      0.00         5\n",
      "          10       0.00      0.00      0.00        17\n",
      "          11       0.00      0.00      0.00        12\n",
      "          12       0.00      0.00      0.00         1\n",
      "\n",
      "    accuracy                           0.16       152\n",
      "   macro avg       0.03      0.09      0.04       152\n",
      "weighted avg       0.06      0.16      0.07       152\n",
      "\n",
      "KNN\n",
      "Accuracy : 0.0658\n",
      "Precision: 0.0562\n",
      "Recall   : 0.0520\n",
      "F1-score : 0.0527\n",
      "\n",
      "Classification Report:\n",
      "              precision    recall  f1-score   support\n",
      "\n",
      "           0       0.07      0.10      0.09        20\n",
      "           1       0.20      0.17      0.18         6\n",
      "           2       0.05      0.07      0.06        15\n",
      "           3       0.00      0.00      0.00         3\n",
      "           4       0.00      0.00      0.00        16\n",
      "           5       0.00      0.00      0.00         1\n",
      "           6       0.09      0.11      0.10        19\n",
      "           7       0.05      0.05      0.05        22\n",
      "           8       0.14      0.13      0.14        15\n",
      "           9       0.00      0.00      0.00         5\n",
      "          10       0.12      0.06      0.08        17\n",
      "          11       0.00      0.00      0.00        12\n",
      "          12       0.00      0.00      0.00         1\n",
      "\n",
      "    accuracy                           0.07       152\n",
      "   macro avg       0.06      0.05      0.05       152\n",
      "weighted avg       0.07      0.07      0.07       152\n",
      "\n",
      "Decision Tree\n",
      "Accuracy : 0.8224\n",
      "Precision: 0.6847\n",
      "Recall   : 0.6735\n",
      "F1-score : 0.6687\n",
      "\n",
      "Classification Report:\n",
      "              precision    recall  f1-score   support\n",
      "\n",
      "           0       0.64      0.90      0.75        20\n",
      "           1       1.00      0.67      0.80         6\n",
      "           2       0.87      0.87      0.87        15\n",
      "           3       0.60      1.00      0.75         3\n",
      "           4       0.85      0.69      0.76        16\n",
      "           5       0.00      0.00      0.00         1\n",
      "           6       0.94      0.89      0.92        19\n",
      "           7       0.96      1.00      0.98        22\n",
      "           8       1.00      0.93      0.97        15\n",
      "           9       0.33      0.40      0.36         5\n",
      "          10       0.93      0.82      0.88        17\n",
      "          11       0.78      0.58      0.67        12\n",
      "          12       0.00      0.00      0.00         1\n",
      "\n",
      "    accuracy                           0.82       152\n",
      "   macro avg       0.68      0.67      0.67       152\n",
      "weighted avg       0.84      0.82      0.82       152\n",
      "\n",
      "Random Forest\n",
      "Accuracy : 0.8224\n",
      "Precision: 0.7101\n",
      "Recall   : 0.6961\n",
      "F1-score : 0.6964\n",
      "\n",
      "Classification Report:\n",
      "              precision    recall  f1-score   support\n",
      "\n",
      "           0       0.83      0.75      0.79        20\n",
      "           1       0.86      1.00      0.92         6\n",
      "           2       0.86      0.80      0.83        15\n",
      "           3       1.00      1.00      1.00         3\n",
      "           4       0.92      0.75      0.83        16\n",
      "           5       0.00      0.00      0.00         1\n",
      "           6       0.86      1.00      0.93        19\n",
      "           7       0.69      0.91      0.78        22\n",
      "           8       0.72      0.87      0.79        15\n",
      "           9       0.67      0.40      0.50         5\n",
      "          10       1.00      0.82      0.90        17\n",
      "          11       0.82      0.75      0.78        12\n",
      "          12       0.00      0.00      0.00         1\n",
      "\n",
      "    accuracy                           0.82       152\n",
      "   macro avg       0.71      0.70      0.70       152\n",
      "weighted avg       0.82      0.82      0.82       152\n",
      "\n",
      "XGBoost\n",
      "Accuracy : 0.9671\n",
      "Precision: 0.8096\n",
      "Recall   : 0.8346\n",
      "F1-score : 0.8196\n",
      "\n",
      "Classification Report:\n",
      "              precision    recall  f1-score   support\n",
      "\n",
      "           0       1.00      0.85      0.92        20\n",
      "           1       1.00      1.00      1.00         6\n",
      "           2       1.00      1.00      1.00        15\n",
      "           3       1.00      1.00      1.00         3\n",
      "           4       1.00      1.00      1.00        16\n",
      "           5       0.00      0.00      0.00         1\n",
      "           6       0.95      1.00      0.97        19\n",
      "           7       1.00      1.00      1.00        22\n",
      "           8       0.94      1.00      0.97        15\n",
      "           9       0.71      1.00      0.83         5\n",
      "          10       1.00      1.00      1.00        17\n",
      "          11       0.92      1.00      0.96        12\n",
      "          12       0.00      0.00      0.00         1\n",
      "\n",
      "    accuracy                           0.97       152\n",
      "   macro avg       0.81      0.83      0.82       152\n",
      "weighted avg       0.96      0.97      0.96       152\n",
      "\n",
      "\n",
      "Model Comparison:\n",
      "                  name                                              model  \\\n",
      "5              XGBoost  XGBClassifier(base_score=None, booster=None, c...   \n",
      "4        Random Forest  (DecisionTreeClassifier(max_features='sqrt', r...   \n",
      "3        Decision Tree            DecisionTreeClassifier(random_state=42)   \n",
      "0  Logistic Regression                   LogisticRegression(max_iter=500)   \n",
      "2                  KNN               KNeighborsClassifier(n_neighbors=11)   \n",
      "1                  SVM                                              SVC()   \n",
      "\n",
      "   accuracy  precision    recall        f1  \\\n",
      "5  0.967105   0.809605  0.834615  0.819566   \n",
      "4  0.822368   0.710081  0.696099  0.696352   \n",
      "3  0.822368   0.684699  0.673520  0.668677   \n",
      "0  0.230263   0.118234  0.146026  0.112534   \n",
      "2  0.065789   0.056189  0.052016  0.052738   \n",
      "1  0.157895   0.033126  0.085315  0.037330   \n",
      "\n",
      "                                                  cm  \n",
      "5  [[17, 0, 0, 0, 0, 0, 0, 0, 1, 1, 0, 1, 0], [0,...  \n",
      "4  [[15, 0, 1, 0, 0, 0, 0, 2, 1, 0, 0, 1, 0], [0,...  \n",
      "3  [[18, 0, 1, 0, 0, 0, 0, 0, 0, 0, 0, 1, 0], [1,...  \n",
      "0  [[8, 0, 1, 0, 0, 0, 6, 1, 0, 0, 2, 2, 0], [4, ...  \n",
      "2  [[2, 0, 3, 0, 3, 1, 3, 3, 3, 0, 2, 0, 0], [2, ...  \n",
      "1  [[4, 0, 0, 0, 0, 0, 0, 16, 0, 0, 0, 0, 0], [0,...  \n"
     ]
    }
   ],
   "source": [
    "def evaluate_model(model, X_train, y_train, X_test, y_test, model_name=\"Model\"):\n",
    "    model.fit(X_train, y_train)\n",
    "    y_pred = model.predict(X_test)\n",
    "\n",
    "    acc = accuracy_score(y_test, y_pred)\n",
    "    prec = precision_score(y_test, y_pred, average=\"macro\", zero_division=0)\n",
    "    rec = recall_score(y_test, y_pred, average=\"macro\", zero_division=0)\n",
    "    f1 = f1_score(y_test, y_pred, average=\"macro\", zero_division=0)\n",
    "\n",
    "    print(f\"{model_name}\")\n",
    "    print(f\"Accuracy : {acc:.4f}\")\n",
    "    print(f\"Precision: {prec:.4f}\")\n",
    "    print(f\"Recall   : {rec:.4f}\")\n",
    "    print(f\"F1-score : {f1:.4f}\")\n",
    "    print(\"\\nClassification Report:\")\n",
    "    print(classification_report(y_test, y_pred, zero_division=0))\n",
    "\n",
    "    cm = confusion_matrix(y_test, y_pred, labels=np.unique(y_test))\n",
    "\n",
    "    return {\n",
    "        \"name\": model_name,\n",
    "        \"model\": model,\n",
    "        \"accuracy\": acc,\n",
    "        \"precision\": prec,\n",
    "        \"recall\": rec,\n",
    "        \"f1\": f1,\n",
    "        \"cm\": cm\n",
    "    }\n",
    "\n",
    "\n",
    "models = [\n",
    "    (\"Logistic Regression\", LogisticRegression(max_iter=500)),\n",
    "    (\"SVM\", SVC()),\n",
    "    (\"KNN\", KNeighborsClassifier(n_neighbors=11)),\n",
    "    (\"Decision Tree\", DecisionTreeClassifier(random_state=42)),\n",
    "    (\"Random Forest\", RandomForestClassifier(random_state=42)),\n",
    "    (\"XGBoost\", XGBClassifier(use_label_encoder=False, eval_metric=\"mlogloss\"))\n",
    "]\n",
    "\n",
    "results = []\n",
    "for name, clf in models:\n",
    "    res = evaluate_model(clf, X_train, y_train, X_test, y_test, name)\n",
    "    results.append(res)\n",
    "\n",
    "\n",
    "results_df = pd.DataFrame(results)\n",
    "print(\"\\nModel Comparison:\")\n",
    "print(results_df.sort_values(\"f1\", ascending=False))\n"
   ]
  },
  {
   "cell_type": "code",
   "execution_count": 35,
   "id": "14441691-13ab-4708-a004-7fdb4bed800f",
   "metadata": {},
   "outputs": [
    {
     "data": {
      "text/html": [
       "<div>\n",
       "<style scoped>\n",
       "    .dataframe tbody tr th:only-of-type {\n",
       "        vertical-align: middle;\n",
       "    }\n",
       "\n",
       "    .dataframe tbody tr th {\n",
       "        vertical-align: top;\n",
       "    }\n",
       "\n",
       "    .dataframe thead th {\n",
       "        text-align: right;\n",
       "    }\n",
       "</style>\n",
       "<table border=\"1\" class=\"dataframe\">\n",
       "  <thead>\n",
       "    <tr style=\"text-align: right;\">\n",
       "      <th></th>\n",
       "      <th>name</th>\n",
       "      <th>model</th>\n",
       "      <th>accuracy</th>\n",
       "      <th>precision</th>\n",
       "      <th>recall</th>\n",
       "      <th>f1</th>\n",
       "      <th>cm</th>\n",
       "    </tr>\n",
       "  </thead>\n",
       "  <tbody>\n",
       "    <tr>\n",
       "      <th>0</th>\n",
       "      <td>Logistic Regression</td>\n",
       "      <td>LogisticRegression(max_iter=500)</td>\n",
       "      <td>0.230263</td>\n",
       "      <td>0.118234</td>\n",
       "      <td>0.146026</td>\n",
       "      <td>0.112534</td>\n",
       "      <td>[[8, 0, 1, 0, 0, 0, 6, 1, 0, 0, 2, 2, 0], [4, ...</td>\n",
       "    </tr>\n",
       "    <tr>\n",
       "      <th>1</th>\n",
       "      <td>SVM</td>\n",
       "      <td>SVC()</td>\n",
       "      <td>0.157895</td>\n",
       "      <td>0.033126</td>\n",
       "      <td>0.085315</td>\n",
       "      <td>0.037330</td>\n",
       "      <td>[[4, 0, 0, 0, 0, 0, 0, 16, 0, 0, 0, 0, 0], [0,...</td>\n",
       "    </tr>\n",
       "    <tr>\n",
       "      <th>2</th>\n",
       "      <td>KNN</td>\n",
       "      <td>KNeighborsClassifier(n_neighbors=11)</td>\n",
       "      <td>0.065789</td>\n",
       "      <td>0.056189</td>\n",
       "      <td>0.052016</td>\n",
       "      <td>0.052738</td>\n",
       "      <td>[[2, 0, 3, 0, 3, 1, 3, 3, 3, 0, 2, 0, 0], [2, ...</td>\n",
       "    </tr>\n",
       "    <tr>\n",
       "      <th>3</th>\n",
       "      <td>Decision Tree</td>\n",
       "      <td>DecisionTreeClassifier(random_state=42)</td>\n",
       "      <td>0.822368</td>\n",
       "      <td>0.684699</td>\n",
       "      <td>0.673520</td>\n",
       "      <td>0.668677</td>\n",
       "      <td>[[18, 0, 1, 0, 0, 0, 0, 0, 0, 0, 0, 1, 0], [1,...</td>\n",
       "    </tr>\n",
       "    <tr>\n",
       "      <th>4</th>\n",
       "      <td>Random Forest</td>\n",
       "      <td>(DecisionTreeClassifier(max_features='sqrt', r...</td>\n",
       "      <td>0.822368</td>\n",
       "      <td>0.710081</td>\n",
       "      <td>0.696099</td>\n",
       "      <td>0.696352</td>\n",
       "      <td>[[15, 0, 1, 0, 0, 0, 0, 2, 1, 0, 0, 1, 0], [0,...</td>\n",
       "    </tr>\n",
       "    <tr>\n",
       "      <th>5</th>\n",
       "      <td>XGBoost</td>\n",
       "      <td>XGBClassifier(base_score=None, booster=None, c...</td>\n",
       "      <td>0.967105</td>\n",
       "      <td>0.809605</td>\n",
       "      <td>0.834615</td>\n",
       "      <td>0.819566</td>\n",
       "      <td>[[17, 0, 0, 0, 0, 0, 0, 0, 1, 1, 0, 1, 0], [0,...</td>\n",
       "    </tr>\n",
       "  </tbody>\n",
       "</table>\n",
       "</div>"
      ],
      "text/plain": [
       "                  name                                              model  \\\n",
       "0  Logistic Regression                   LogisticRegression(max_iter=500)   \n",
       "1                  SVM                                              SVC()   \n",
       "2                  KNN               KNeighborsClassifier(n_neighbors=11)   \n",
       "3        Decision Tree            DecisionTreeClassifier(random_state=42)   \n",
       "4        Random Forest  (DecisionTreeClassifier(max_features='sqrt', r...   \n",
       "5              XGBoost  XGBClassifier(base_score=None, booster=None, c...   \n",
       "\n",
       "   accuracy  precision    recall        f1  \\\n",
       "0  0.230263   0.118234  0.146026  0.112534   \n",
       "1  0.157895   0.033126  0.085315  0.037330   \n",
       "2  0.065789   0.056189  0.052016  0.052738   \n",
       "3  0.822368   0.684699  0.673520  0.668677   \n",
       "4  0.822368   0.710081  0.696099  0.696352   \n",
       "5  0.967105   0.809605  0.834615  0.819566   \n",
       "\n",
       "                                                  cm  \n",
       "0  [[8, 0, 1, 0, 0, 0, 6, 1, 0, 0, 2, 2, 0], [4, ...  \n",
       "1  [[4, 0, 0, 0, 0, 0, 0, 16, 0, 0, 0, 0, 0], [0,...  \n",
       "2  [[2, 0, 3, 0, 3, 1, 3, 3, 3, 0, 2, 0, 0], [2, ...  \n",
       "3  [[18, 0, 1, 0, 0, 0, 0, 0, 0, 0, 0, 1, 0], [1,...  \n",
       "4  [[15, 0, 1, 0, 0, 0, 0, 2, 1, 0, 0, 1, 0], [0,...  \n",
       "5  [[17, 0, 0, 0, 0, 0, 0, 0, 1, 1, 0, 1, 0], [0,...  "
      ]
     },
     "execution_count": 35,
     "metadata": {},
     "output_type": "execute_result"
    }
   ],
   "source": [
    "results_df"
   ]
  },
  {
   "cell_type": "code",
   "execution_count": 36,
   "id": "a42e1a21-d879-4e01-8ae1-0545fbacd8e6",
   "metadata": {},
   "outputs": [
    {
     "data": {
      "image/png": "[encoded data removed]",
      "text/plain": [
       "<Figure size 800x500 with 1 Axes>"
      ]
     },
     "metadata": {},
     "output_type": "display_data"
    }
   ],
   "source": [
    "plt.figure(figsize=(8,5))\n",
    "plt.bar(results_df[\"name\"], results_df[\"f1\"])\n",
    "plt.title(\"Model Comparison (F1 Score)\")\n",
    "plt.ylabel(\"Macro F1 Score\")\n",
    "plt.xlabel(\"Model\")\n",
    "plt.xticks(rotation=90)\n",
    "plt.ylim(0, 1)  # scores are between 0 and 1\n",
    "plt.show()"
   ]
  },
  {
   "cell_type": "code",
   "execution_count": 37,
   "id": "5f40cee7-22a0-4ae4-885f-a9d69eee857a",
   "metadata": {},
   "outputs": [
    {
     "name": "stdout",
     "output_type": "stream",
     "text": [
      "Best model: XGBoost\n"
     ]
    }
   ],
   "source": [
    "best_entry = max(results, key=lambda d: d['f1'])\n",
    "best_name = best_entry['name']\n",
    "best_model = best_entry['model']\n",
    "print(\"Best model:\", best_name)"
   ]
  },
  {
   "cell_type": "code",
   "execution_count": 53,
   "id": "cda09730-fb4e-497e-8e04-e47e7c1a055d",
   "metadata": {},
   "outputs": [
    {
     "name": "stdout",
     "output_type": "stream",
     "text": [
      "Fitting 3 folds for each of 15 candidates, totalling 45 fits\n",
      "Best params: {'n_estimators': 400, 'max_depth': 8, 'learning_rate': 0.1}\n",
      "Best CV score (f1_macro): 0.4478261401126617\n",
      "\n",
      "Tuned Model with Test data\n",
      "Accuracy : 0.5394736842105263\n",
      "Precision: 0.5577223389355742\n",
      "Recall   : 0.48001009281969026\n",
      "F1-score : 0.48581202307917853\n",
      "\n",
      "Classification Report:\n",
      "              precision    recall  f1-score   support\n",
      "\n",
      "           0       0.62      0.50      0.55        26\n",
      "           1       0.50      0.29      0.36         7\n",
      "           2       0.31      0.50      0.38        10\n",
      "           3       1.00      0.75      0.86         4\n",
      "           4       0.43      0.53      0.47        17\n",
      "           5       0.00      0.00      0.00         0\n",
      "           6       0.60      0.55      0.57        22\n",
      "           7       0.56      0.74      0.64        19\n",
      "           8       0.71      0.86      0.77        14\n",
      "           9       1.00      0.22      0.36         9\n",
      "          10       0.47      0.58      0.52        12\n",
      "          11       0.50      0.25      0.33        12\n",
      "\n",
      "    accuracy                           0.54       152\n",
      "   macro avg       0.56      0.48      0.49       152\n",
      "weighted avg       0.58      0.54      0.53       152\n",
      "\n"
     ]
    }
   ],
   "source": [
    "param_distributions = {\n",
    "    'n_estimators': [200, 300, 400],\n",
    "    'max_depth': [4, 6, 8],\n",
    "    'learning_rate': [0.05, 0.1, 0.2]\n",
    "}\n",
    "search = RandomizedSearchCV(\n",
    "        estimator=best_model,\n",
    "        param_distributions=param_distributions,\n",
    "        n_iter=15,\n",
    "        scoring='f1_macro',\n",
    "        cv=3,\n",
    "        random_state=42,\n",
    "        n_jobs=-1,\n",
    "        verbose=1\n",
    "    )\n",
    "search.fit(X_train, y_train)\n",
    "tuned_model = search.best_estimator_\n",
    "print(\"Best params:\", search.best_params_)\n",
    "print(\"Best CV score (f1_macro):\", search.best_score_)\n",
    "    \n",
    "    # Evaluate tuned model on test\n",
    "tuned_pred = tuned_model.predict(X_test)\n",
    "print(\"\\nTuned Model with Test data\")\n",
    "print(\"Accuracy :\", accuracy_score(y_test, tuned_pred))\n",
    "print(\"Precision:\", precision_score(y_test, tuned_pred, average='macro'))\n",
    "print(\"Recall   :\", recall_score(y_test, tuned_pred, average='macro'))\n",
    "print(\"F1-score :\", f1_score(y_test, tuned_pred, average='macro'))\n",
    "print(\"\\nClassification Report:\")\n",
    "print(classification_report(y_test, tuned_pred))"
   ]
  },
  {
   "cell_type": "code",
   "execution_count": 45,
   "id": "39291412-bd9b-4aad-98a0-496661eb9a6b",
   "metadata": {},
   "outputs": [
    {
     "name": "stdout",
     "output_type": "stream",
     "text": [
      "                           Team  Encoded_Label\n",
      "0           Chennai Super Kings              0\n",
      "1               Deccan Chargers              1\n",
      "2                Delhi Capitals              2\n",
      "3                 Gujarat Lions              3\n",
      "4               Kings XI Punjab              4\n",
      "5          Kochi Tuskers Kerala              5\n",
      "6         Kolkata Knight Riders              6\n",
      "7                Mumbai Indians              7\n",
      "8              Rajasthan Royals              8\n",
      "9       Rising Pune Supergiants              9\n",
      "10  Royal Challengers Bangalore             10\n",
      "11          Sunrisers Hyderabad             11\n",
      "12                          nan             12\n"
     ]
    }
   ],
   "source": [
    "team_mapping = pd.DataFrame({\n",
    "    \"Team\": encoder.classes_,\n",
    "    \"Encoded_Label\": range(len(encoder.classes_))\n",
    "})\n",
    "\n",
    "print(team_mapping)\n"
   ]
  },
  {
   "cell_type": "code",
   "execution_count": 47,
   "id": "3df402be-e829-44ba-8155-d08e2dcfcb3c",
   "metadata": {},
   "outputs": [
    {
     "name": "stdout",
     "output_type": "stream",
     "text": [
      "  Toss_Decision  Encoded_Label\n",
      "0           bat              0\n",
      "1         field              1\n"
     ]
    }
   ],
   "source": [
    "encoder = LabelEncoder()\n",
    "df_encoded = df.dropna(subset=[\"toss_decision\"]).copy()\n",
    "df_encoded[\"toss_encoded\"] = encoder.fit_transform(df_encoded[\"toss_decision\"])\n",
    "\n",
    "toss_mapping = pd.DataFrame({\n",
    "    \"Toss_Decision\": encoder.classes_,\n",
    "    \"Encoded_Label\": range(len(encoder.classes_))\n",
    "})\n",
    "\n",
    "print(toss_mapping)"
   ]
  },
  {
   "cell_type": "code",
   "execution_count": 39,
   "id": "8eca2ff0-541a-4d75-8744-1ccd83f945fc",
   "metadata": {},
   "outputs": [
    {
     "name": "stdout",
     "output_type": "stream",
     "text": [
      "Predictions: [4 1 0 7 4]\n",
      "Actual: [4 2 0 3 4]\n",
      "Predictions: ['Kings XI Punjab' 'Deccan Chargers' 'Chennai Super Kings'\n",
      " 'Mumbai Indians' 'Kings XI Punjab']\n",
      "Actual: ['Kings XI Punjab' 'Delhi Capitals' 'Chennai Super Kings' 'Gujarat Lions'\n",
      " 'Kings XI Punjab']\n"
     ]
    }
   ],
   "source": [
    "import pickle\n",
    "\n",
    "# Select features and target\n",
    "features = ['team1', 'team2', 'toss_winner', 'toss_decision', 'venue']\n",
    "target = 'winner'\n",
    "\n",
    "# Prepare dataframe\n",
    "df_model = df[features + [target]].dropna()\n",
    "\n",
    "# Encode categorical variables\n",
    "encoder = LabelEncoder()\n",
    "for col in features + [target]:\n",
    "    df_model[col] = encoder.fit_transform(df_model[col])\n",
    "\n",
    "X = df_model[features]\n",
    "y = df_model[target]\n",
    "\n",
    "# Train/test split\n",
    "X_train, X_test, y_train, y_test = train_test_split(X, y, test_size=0.2, random_state=42)\n",
    "\n",
    "tuned_model.fit(X_train, y_train)\n",
    "# Save model to pickle\n",
    "with open(\"ipl_winner_xgb.pkl\", \"wb\") as f:\n",
    "    pickle.dump(tuned_model, f)\n",
    "\n",
    "# Load model back\n",
    "with open(\"ipl_winner_xgb.pkl\", \"rb\") as f:\n",
    "    loaded_xgb = pickle.load(f)\n",
    "\n",
    "# Example prediction\n",
    "sample = X_test.iloc[0:5]   # first 5 test samples\n",
    "print(\"Predictions:\", loaded_xgb.predict(sample))\n",
    "y_pred = loaded_xgb.predict(sample)\n",
    "print(\"Actual:\", y_test.iloc[0:5].values)\n",
    "\n",
    "predicted_teams = encoder.inverse_transform(y_pred)\n",
    "actual_teams = encoder.inverse_transform(y_test.iloc[0:5])\n",
    "\n",
    "print(\"Predictions:\", predicted_teams)\n",
    "y_pred = loaded_xgb.predict(sample)\n",
    "print(\"Actual:\", actual_teams)"
   ]
  },
  {
   "cell_type": "code",
   "execution_count": null,
   "id": "3b306c26-9131-4a17-a8d9-3dc4ee6aa5b6",
   "metadata": {},
   "outputs": [],
   "source": []
  }
 ],
 "metadata": {
  "kernelspec": {
   "display_name": "Python [conda env:base] *",
   "language": "python",
   "name": "conda-base-py"
  },
  "language_info": {
   "codemirror_mode": {
    "name": "ipython",
    "version": 3
   },
   "file_extension": ".py",
   "mimetype": "text/x-python",
   "name": "python",
   "nbconvert_exporter": "python",
   "pygments_lexer": "ipython3",
   "version": "3.13.5"
  }
 },
 "nbformat": 4,
 "nbformat_minor": 5
}
